{
 "cells": [
  {
   "cell_type": "markdown",
   "metadata": {},
   "source": [
    "# Splines aproximation for HUC Problem"
   ]
  },
  {
   "cell_type": "markdown",
   "metadata": {},
   "source": [
    "## Config"
   ]
  },
  {
   "cell_type": "markdown",
   "metadata": {},
   "source": [
    "### Ampl API configuration"
   ]
  },
  {
   "cell_type": "code",
   "execution_count": 1,
   "metadata": {},
   "outputs": [],
   "source": [
    "# # Install dependencies\n",
    "# %pip install -q --upgrade pip\n",
    "# %pip install -q --upgrade amplpy ipywidgets sympy\n",
    "# !python3.10 -m amplpy.modules uninstall gurobi\n",
    "# !python3.10 -m amplpy.modules install cplex\n",
    "# !python3.10 -m amplpy.modules installed\n",
    "\n",
    "import sys\n",
    "sys.path.append('/usr/local/ilog-2211/cplex/python/3.9/x86-64_linux')\n",
    "\n",
    "import cplex"
   ]
  },
  {
   "cell_type": "code",
   "execution_count": null,
   "metadata": {},
   "outputs": [
    {
     "data": {
      "application/vnd.jupyter.widget-view+json": {
       "model_id": "25e22d74fe3b47d6b485ba2dabf6dd6a",
       "version_major": 2,
       "version_minor": 0
      },
      "text/plain": [
       "VBox(children=(Output(), HBox(children=(Text(value='', description='License UUID:', style=TextStyle(descriptio…"
      ]
     },
     "metadata": {},
     "output_type": "display_data"
    }
   ],
   "source": [
    "# Imports and AMPL API configuration\n",
    "from typing import List\n",
    "import pandas as pd\n",
    "import amplpy\n",
    "from amplpy import AMPL, ampl_notebook\n",
    "from IPython.display import display, Math, Latex\n",
    "import matplotlib.pyplot as plt\n",
    "import numpy as np\n",
    "\n",
    "# Uncomment this part if it's the first run\n",
    "# ampl = ampl_notebook(\n",
    "#     modules=[\"gurobi\", \"coin\"],  # modules to install\n",
    "#     # license_uuid=\"default\",  # license to use\n",
    "# )\n",
    "\n",
    "ampl = ampl_notebook()\n",
    "ampl.set_option(\"display_precision\", 17)"
   ]
  },
  {
   "cell_type": "markdown",
   "metadata": {},
   "source": [
    "### Setting file names"
   ]
  },
  {
   "cell_type": "code",
   "execution_count": null,
   "metadata": {},
   "outputs": [],
   "source": [
    "# Define the folder path where the files are located\n",
    "problem_name = \"HUC_scaled\"\n",
    "folder_path = \"data/HUC\"\n",
    "folder_path_spline = \"data/HUC/spline\"\n",
    "\n",
    "# Define the name of the temporary .lp file\n",
    "new_lp=\"tmp_1.lp\""
   ]
  },
  {
   "cell_type": "code",
   "execution_count": 4,
   "metadata": {},
   "outputs": [
    {
     "data": {
      "application/vnd.jupyter.widget-view+json": {
       "model_id": "1d01c36543d447a5beb529a80d94374d",
       "version_major": 2,
       "version_minor": 0
      },
      "text/plain": [
       "interactive(children=(Dropdown(description='Select File:', options=('HUC_T=12.dat',), value='HUC_T=12.dat'), O…"
      ]
     },
     "metadata": {},
     "output_type": "display_data"
    }
   ],
   "source": [
    "import os\n",
    "from ipywidgets import interact, widgets\n",
    "\n",
    "# List all files in the folder\n",
    "file_list = sorted([f for f in os.listdir(folder_path) if os.path.isfile(os.path.join(folder_path, f))])\n",
    "if \".DS_Store\" in file_list:\n",
    "    file_list.remove(\".DS_Store\")\n",
    "\n",
    "# Function to load and display the selected file\n",
    "def load_file(selected_file):\n",
    "    global file_data\n",
    "    file_data = os.path.join(folder_path, selected_file)\n",
    "    print(f\"Loading file: {selected_file}\")\n",
    "\n",
    "# Create an interactive dropdown for file selection\n",
    "interact(load_file, selected_file=widgets.Dropdown(options=file_list, description='Select File:'));"
   ]
  },
  {
   "cell_type": "code",
   "execution_count": 5,
   "metadata": {},
   "outputs": [
    {
     "data": {
      "application/vnd.jupyter.widget-view+json": {
       "model_id": "ee5e28f8d623452087e0999641b522db",
       "version_major": 2,
       "version_minor": 0
      },
      "text/plain": [
       "interactive(children=(Dropdown(description='Select File:', options=('HUC_ndata-proc.txt', 'HUC_ndata_435_bound…"
      ]
     },
     "metadata": {},
     "output_type": "display_data"
    }
   ],
   "source": [
    "# List all files in the folder\n",
    "file_list = sorted([f for f in os.listdir(folder_path_spline) if os.path.isfile(os.path.join(folder_path_spline, f))])\n",
    "if \".DS_Store\" in file_list:\n",
    "    file_list.remove(\".DS_Store\")\n",
    "\n",
    "# Function to load and display the selected file\n",
    "def load_file(selected_file):\n",
    "    global file_dataSplines\n",
    "    file_dataSplines = os.path.join(folder_path_spline, selected_file)\n",
    "    print(f\"Loading file: {selected_file}\")\n",
    "\n",
    "# Create an interactive dropdown for file selection\n",
    "interact(load_file, selected_file=widgets.Dropdown(options=file_list, description='Select File:'));"
   ]
  },
  {
   "cell_type": "markdown",
   "metadata": {},
   "source": [
    "## Run original model"
   ]
  },
  {
   "cell_type": "code",
   "execution_count": null,
   "metadata": {},
   "outputs": [
    {
     "name": "stdout",
     "output_type": "stream",
     "text": [
      "out/log_file_scip_HUC_T=12_original.log\n",
      "sol/sol_file_scip_HUC_T=12_original.sol\n"
     ]
    }
   ],
   "source": [
    "solver = \"gurobi\"\n",
    "time_limit = 600\n",
    "\n",
    "nome_arquivo = os.path.basename(file_data)\n",
    "nome_arquivo, _ = os.path.splitext(nome_arquivo)\n",
    "out_log = f\"out/log_file_{solver}_{nome_arquivo}_original.log\"\n",
    "out_sol = f\"sol/sol_file_{solver}_{nome_arquivo}_original.sol\"\n",
    "\n",
    "print(out_log)\n",
    "print(out_sol)"
   ]
  },
  {
   "cell_type": "markdown",
   "metadata": {},
   "source": [
    "#### Solving the original model"
   ]
  },
  {
   "cell_type": "code",
   "execution_count": null,
   "metadata": {},
   "outputs": [
    {
     "name": "stdout",
     "output_type": "stream",
     "text": [
      "\n",
      "120 variables:\n",
      "\t60 binary variables\n",
      "\t36 nonlinear variables\n",
      "\t24 linear variables\n",
      "169 constraints; 464 nonzeros\n",
      "\t12 nonlinear constraints\n",
      "\t157 linear constraints\n",
      "\t37 equality constraints\n",
      "\t132 inequality constraints\n",
      "1 linear objective; 36 nonzeros.\n",
      "\n",
      "scip: error while loading shared libraries: libreadline.so.6: cannot open shared object file: No such file or directory\n",
      "exit value 127\n",
      "<BREAK>\n",
      ":        _varname     _var    :=\n",
      "1     'q[1,1]'          0\n",
      "2     'q[1,2]'          0\n",
      "3     'q[1,3]'          0\n",
      "4     'q[1,4]'          0\n",
      "5     'q[1,5]'          0\n",
      "6     'q[1,6]'          0\n",
      "7     'q[1,7]'          0\n",
      "8     'q[1,8]'          0\n",
      "9     'q[1,9]'          0\n",
      "10    'q[1,10]'         0\n",
      "11    'q[1,11]'         0\n",
      "12    'q[1,12]'         0\n",
      "13    'v[1]'            0\n",
      "14    'v[2]'            0\n",
      "15    'v[3]'            0\n",
      "16    'v[4]'            0\n",
      "17    'v[5]'            0\n",
      "18    'v[6]'            0\n",
      "19    'v[7]'            0\n",
      "20    'v[8]'            0\n",
      "21    'v[9]'            0\n",
      "22    'v[10]'           0\n",
      "23    'v[11]'           0\n",
      "24    'v[12]'           0\n",
      "25    'p[1,1]'          0\n",
      "26    'p[1,2]'          0\n",
      "27    'p[1,3]'          0\n",
      "28    'p[1,4]'          0\n",
      "29    'p[1,5]'          0\n",
      "30    'p[1,6]'          0\n",
      "31    'p[1,7]'          0\n",
      "32    'p[1,8]'          0\n",
      "33    'p[1,9]'          0\n",
      "34    'p[1,10]'         0\n",
      "35    'p[1,11]'         0\n",
      "36    'p[1,12]'         0\n",
      "37    'sp[1]'           0\n",
      "38    'sp[2]'           0\n",
      "39    'sp[3]'           0\n",
      "40    'sp[4]'           0\n",
      "41    'sp[5]'           0\n",
      "42    'sp[6]'           0\n",
      "43    'sp[7]'           0\n",
      "44    'sp[8]'           0\n",
      "45    'sp[9]'           0\n",
      "46    'sp[10]'          0\n",
      "47    'sp[11]'          0\n",
      "48    'sp[12]'          0\n",
      "49    'g[1,1]'          0\n",
      "50    'g[1,2]'          0\n",
      "51    'g[1,3]'          0\n",
      "52    'g[1,4]'          0\n",
      "53    'g[1,5]'          0\n",
      "54    'g[1,6]'          0\n",
      "55    'g[1,7]'          0\n",
      "56    'g[1,8]'          0\n",
      "57    'g[1,9]'          0\n",
      "58    'g[1,10]'         0\n",
      "59    'g[1,11]'         0\n",
      "60    'g[1,12]'         0\n",
      "61    'u[1,1]'          0\n",
      "62    'u[1,2]'          0\n",
      "63    'u[1,3]'          0\n",
      "64    'u[1,4]'          0\n",
      "65    'u[1,5]'          0\n",
      "66    'u[1,6]'          0\n",
      "67    'u[1,7]'          0\n",
      "68    'u[1,8]'          0\n",
      "69    'u[1,9]'          0\n",
      "70    'u[1,10]'         0\n",
      "71    'u[1,11]'         0\n",
      "72    'u[1,12]'         0\n",
      "73    'tilde_w[1,1]'    0\n",
      "74    'tilde_w[1,2]'    0\n",
      "75    'tilde_w[1,3]'    0\n",
      "76    'tilde_w[1,4]'    0\n",
      "77    'tilde_w[1,5]'    0\n",
      "78    'tilde_w[1,6]'    0\n",
      "79    'tilde_w[1,7]'    0\n",
      "80    'tilde_w[1,8]'    0\n",
      "81    'tilde_w[1,9]'    0\n",
      "82    'tilde_w[1,10]'   0\n",
      "83    'tilde_w[1,11]'   0\n",
      "84    'tilde_w[1,12]'   0\n",
      "85    'tilde_z[1,1]'    0\n",
      "86    'tilde_z[1,2]'    0\n",
      "87    'tilde_z[1,3]'    0\n",
      "88    'tilde_z[1,4]'    0\n",
      "89    'tilde_z[1,5]'    0\n",
      "90    'tilde_z[1,6]'    0\n",
      "91    'tilde_z[1,7]'    0\n",
      "92    'tilde_z[1,8]'    0\n",
      "93    'tilde_z[1,9]'    0\n",
      "94    'tilde_z[1,10]'   0\n",
      "95    'tilde_z[1,11]'   0\n",
      "96    'tilde_z[1,12]'   0\n",
      "97    'w[1,1]'          0\n",
      "98    'w[1,2]'          0\n",
      "99    'w[1,3]'          0\n",
      "100   'w[1,4]'          0\n",
      "101   'w[1,5]'          0\n",
      "102   'w[1,6]'          0\n",
      "103   'w[1,7]'          0\n",
      "104   'w[1,8]'          0\n",
      "105   'w[1,9]'          0\n",
      "106   'w[1,10]'         0\n",
      "107   'w[1,11]'         0\n",
      "108   'w[1,12]'         0\n",
      "109   'z[1,1]'          0\n",
      "110   'z[1,2]'          0\n",
      "111   'z[1,3]'          0\n",
      "112   'z[1,4]'          0\n",
      "113   'z[1,5]'          0\n",
      "114   'z[1,6]'          0\n",
      "115   'z[1,7]'          0\n",
      "116   'z[1,8]'          0\n",
      "117   'z[1,9]'          0\n",
      "118   'z[1,10]'         0\n",
      "119   'z[1,11]'         0\n",
      "120   'z[1,12]'         0\n",
      ";\n",
      "\n",
      "_obj[1] = 0\n",
      "\n",
      "_solve_elapsed_time = 0.069582000000000033\n",
      "\n"
     ]
    }
   ],
   "source": [
    "ampl.reset()\n",
    "ampl.read(\"HUC_scaled.mod\")\n",
    "ampl.readData(file_data)\n",
    "\n",
    "ampl.option[\"solver\"] = solver\n",
    "ampl.option[\"gurobi_options\"] = \"timelim=600 outlev=1 tech:threads=1\"\n",
    "ampl.option[\"couenne_options\"] = \"outlev=2\"\n",
    "ampl.option[\"baron_options\"] = f'maxtime=600 outlev=2'\n",
    "ampl.option[\"bonmin_options\"] = f'bonmin.time_limit=600 outlev=2'\n",
    "\n",
    "with open(\"couenne.opt\", 'w') as arquivo:\n",
    "    arquivo.write(f\"time_limit {time_limit}\")\n",
    "\n",
    "ampl.set_option(\"show_stats\", 1)\n",
    "ampl.set_option(\"presolve\", 0)\n",
    "ampl.set_option(\"log_file\", out_log)\n",
    "ampl.solve()\n",
    "ampl.display(\"_varname, _var\")\n",
    "ampl.display(\"_obj[1]\")\n",
    "ampl.eval(\"display _solve_elapsed_time;\")\n",
    "\n",
    "ampl.set_option(\"log_file\", \"\")"
   ]
  },
  {
   "cell_type": "markdown",
   "metadata": {},
   "source": [
    "## Splines"
   ]
  },
  {
   "cell_type": "code",
   "execution_count": null,
   "metadata": {},
   "outputs": [],
   "source": [
    "# ampl = AMPL()\n",
    "param_bar_n = ampl.param[\"bar_n\"].value()\n",
    "param_bar_t = ampl.param[\"bar_t\"].value()\n",
    "param_bar_k = param_bar_n * param_bar_t\n",
    "\n",
    "print(param_bar_n, param_bar_t, param_bar_k)"
   ]
  },
  {
   "cell_type": "code",
   "execution_count": null,
   "metadata": {},
   "outputs": [],
   "source": [
    "filepath = file_dataSplines\n",
    "output_path = \"data/spline/HUC_ndata-proc.txt\"\n",
    "\n",
    "with open(filepath, 'r') as f:\n",
    "    content = f.read()\n",
    "\n",
    "raw_params = content.split(';')\n",
    "\n",
    "with open(output_path, 'w') as out:\n",
    "    for param in raw_params:\n",
    "        param = param.strip()\n",
    "        if not param:\n",
    "            continue\n",
    "\n",
    "        proc = False\n",
    "\n",
    "        if \"**K\" in param:\n",
    "            proc = True\n",
    "            print(param.replace('**K', str(param_bar_k)), \";\\n\\n\", end='', file=out)\n",
    "\n",
    "        elif \"**k\" in param:\n",
    "            proc = True\n",
    "            param2 = param.split(\":=\")\n",
    "\n",
    "            if len(param2) == 2:\n",
    "                print(param2[0], \":=\", end='', file=out)\n",
    "                for i in range(1, param_bar_k + 1):\n",
    "                    print(param2[1].replace('**k', str(i)), end='', file=out)\n",
    "                print(\";\\n\\n\", end='', file=out)\n",
    "\n",
    "            elif len(param2) > 2:\n",
    "                param2 = param.split(\"[\")\n",
    "                print(param2[0], end='', file=out)\n",
    "                for i in range(1, param_bar_k + 1):\n",
    "                    print(\"[\", param2[1].replace('**k', str(i)), end='', file=out)\n",
    "                for i in range(1, param_bar_k + 1):\n",
    "                    print(\"\\n\\n[\", param2[2].replace('**k', str(i)), end='', file=out)\n",
    "                print(\";\\n\\n\", end='', file=out)\n",
    "\n",
    "        elif \"**j\" in param and \"**t\" in param:\n",
    "            proc = True\n",
    "            count = 1\n",
    "            param2 = param.split(\":=\")\n",
    "\n",
    "            if len(param2) == 2:\n",
    "                print(param2[0], \":=\", end='', file=out)\n",
    "                for i in range(1, param_bar_n + 1):\n",
    "                    for j in range(1, param_bar_t + 1):\n",
    "                        print(\n",
    "                            param2[1]\n",
    "                            .replace('**j', str(i))\n",
    "                            .replace('**t', str(j))\n",
    "                            .replace('**c', str(count)),\n",
    "                            end='', file=out\n",
    "                        )\n",
    "                        count += 1\n",
    "                print(\";\\n\\n\", end='', file=out)\n",
    "\n",
    "        if not proc:\n",
    "            print(param, \";\\n\\n\", end='', file=out)"
   ]
  },
  {
   "cell_type": "markdown",
   "metadata": {},
   "source": [
    "#### Defining and loading the extra data for splines"
   ]
  },
  {
   "cell_type": "markdown",
   "metadata": {},
   "source": [
    "Each spline can be defined as follows:  \n",
    "\n",
    "$Y_i = \\sum_{j=1}^{\\bar{N}_i} \\sigma_{ij}(X_{ij}) + \\alpha_{i} , \\quad \\forall i \\in \\{1, \\dots, N\\}$\n",
    "\n",
    "where:\n",
    "\n",
    "- $ Y_i $ : A dependent variable from the original formulation.\n",
    "- $ X_{ij} $ : An independent variable from the original formulation.\n",
    "- $ \\sigma_{ij}(x) $ : A piecewise function.\n",
    "- $ \\alpha_{i} $ : A constant term\n",
    "- $ N $ : The number of splines.\n",
    "- $ \\bar{N}_i $ : The number of piecewise functions in each spline.\n",
    "\n",
    "To load the spline data, we need to define additional parameters."
   ]
  },
  {
   "cell_type": "code",
   "execution_count": null,
   "metadata": {},
   "outputs": [],
   "source": [
    "%%ampl_eval\n",
    "# defining extra parameters for splines\n",
    "\n",
    "# Number of splines:\n",
    "param splines_n > 0;\n",
    "\n",
    "# Number of sigma piecewise functions for each spline:\n",
    "param splines_nVariables {1 .. splines_n} > 0;\n",
    "\n",
    "# Dependent variable name for each spline:\n",
    "param splines_variablesY {1 .. splines_n} symbolic;\n",
    "\n",
    "# Sigma variables names (wich will receive the piecewise function value) for each spline:\t\t\t\t\t\t  \n",
    "param splines_variablesSigma {i in {1 .. splines_n}, \n",
    "\t\t\t\t\t\t  1 .. splines_nVariables[i]} symbolic;\n",
    "\t\t\t\t\t\t  \n",
    "# Independent variable name for each sigma piecewise function:\n",
    "param splines_variablesX {i in {1 .. splines_n}, \n",
    "\t\t\t\t\t\t  1 .. splines_nVariables[i]} symbolic;\n",
    "\n",
    "# Number of intervals for each sigma piecewise function in each spline:\n",
    "param splines_nIntervals {i in {1 .. splines_n}, \n",
    "\t\t\t\t\t\t  1 .. splines_nVariables[i]} > 0;\n",
    "\n",
    "# Degree of the polynomial for each sigma:\n",
    "param splines_nDegree {i in {1 .. splines_n}, \n",
    "\t\t\t\t\t   1 .. splines_nVariables[i]} > 0;\n",
    "\n",
    "# Alpha parameters for each spline:\n",
    "param splines_alpha {1 .. splines_n};\n",
    "\n",
    "# Lower bound values for each interval in the piecewise function of each spline:\n",
    "param splines_l {i in {1 .. splines_n},\n",
    "\t\t\t\tj in {1 .. splines_nVariables[i]},\n",
    "\t\t\t\t1 .. splines_nIntervals[i,j]+1};\n",
    "\n",
    "# Spline function coefficients:\n",
    "param splines\t{i in {1 .. splines_n},\n",
    "\t\t\t\t j in {1 .. splines_nVariables[i]}, \n",
    "\t\t\t\t 1 .. splines_nIntervals[i,j], \n",
    "\t\t\t\t 1 .. splines_nDegree[i,j]+1 };\n",
    "  "
   ]
  },
  {
   "cell_type": "markdown",
   "metadata": {},
   "source": [
    "#### Loading data\n",
    "\n",
    "The extra data is loaded:"
   ]
  },
  {
   "cell_type": "code",
   "execution_count": null,
   "metadata": {},
   "outputs": [],
   "source": [
    "ampl.readData(output_path)"
   ]
  },
  {
   "cell_type": "markdown",
   "metadata": {},
   "source": [
    "Loading it into python variables:"
   ]
  },
  {
   "cell_type": "code",
   "execution_count": null,
   "metadata": {},
   "outputs": [],
   "source": [
    "splines_n = ampl.param[\"splines_n\"].value()\n",
    "splines_nVariables = ampl.param[\"splines_nVariables\"].to_dict()\n",
    "splines_nIntervals = ampl.param[\"splines_nIntervals\"].to_dict()\n",
    "splines_variablesY = ampl.param[\"splines_variablesY\"].to_dict()\n",
    "splines_variablesSigma = ampl.param[\"splines_variablesSigma\"].to_dict()\n",
    "splines_variablesX = ampl.param[\"splines_variablesX\"].to_dict()\n",
    "splines_nDegree = ampl.param[\"splines_nDegree\"].to_dict()\n",
    "splines_alpha = ampl.param[\"splines_alpha\"].to_dict()\n",
    "splines_l = ampl.param[\"splines_l\"].to_dict()\n",
    "splines = ampl.param[\"splines\"].to_dict()"
   ]
  },
  {
   "cell_type": "markdown",
   "metadata": {},
   "source": [
    "#### Extra variables and constraints\n",
    "\n",
    "The extra variables and constraints are necessary and will be automatically detected using the code below:"
   ]
  },
  {
   "cell_type": "code",
   "execution_count": null,
   "metadata": {},
   "outputs": [],
   "source": [
    "statement = \"\"\n",
    "\n",
    "# Sigma variables\n",
    "for var in set(splines_variablesSigma.values()) :\n",
    "    statement += f'var {var};\\n'\n",
    "\n",
    "# Plus operation variables and constraints\n",
    "for var in set(splines_variablesX.values()) :\n",
    "    if (var.find(\"_plus_\") > 0) :\n",
    "        vars = var.split(\"_plus_\")\n",
    "        statement += f'var {var};\\n'\n",
    "        statement += f'subject to splines_1_sum_{var}: {var} = {vars[0]} + {vars[1]};\\n'\n",
    "\n",
    "# Splines definition\n",
    "for i in range(1,splines_n+1) :\n",
    "    statement += f'subject to splines_1_definition_{i}: {splines_variablesY[i]} <= + P_minus[1]*u[1,{i}] + splines_alpha[{i}]'\n",
    "    for j in range(1,splines_nVariables[i]+1) :\n",
    "        statement += f' + {splines_variablesSigma[i,j]}'\n",
    "    statement += ';\\n'\n",
    "\n",
    "print(statement)\n"
   ]
  },
  {
   "cell_type": "code",
   "execution_count": null,
   "metadata": {},
   "outputs": [],
   "source": [
    "ampl.eval(statement)"
   ]
  },
  {
   "cell_type": "markdown",
   "metadata": {},
   "source": [
    "For each spline $i$, and for each piecewise function $j$, we have:\n",
    "\n",
    "$\\sigma_{ij}(X_{i,j}) = \\sum_{k=1}^{\\hat{N_{i,j}}} \\sigma''_{i,j,k}$, where $\\hat{N_{i,j}}$ is the number of the intervals in the piecewise function $j$.\n",
    "\n",
    "Define the binary variables:\n",
    "\n",
    "$y_{i,j,k} \\in \\{0,1\\}$\n",
    "\n",
    "Charging variables:\n",
    "\n",
    "$0 \\leq x_{i,j,k} \\leq l_{i,j,k+1} - l_{i,j,k}$\n",
    "\n",
    "Sigma variables:\n",
    "\n",
    "$\\sigma''_{i,j,k} \\text{ is free}$\n",
    "\n",
    "Charging constraint:\n",
    "\n",
    "$X_{i,j} = \\sum_{k=1}^{I_{i,j}} \\left( y_{i,j,k} \\cdot l_{i,j,k} + x_{i,j,k} \\right)$\n",
    "\n",
    "Multiple choice constraint:\n",
    "\n",
    "$\\sum_{k=1}^{I_{i,j}} y_{i,j,k} = 1$\n",
    "\n",
    "Interval selection constraint:\n",
    "\n",
    "$x_{i,j,k} \\leq (l_{i,j,k+1} - l_{i,j,k}) \\cdot y_{i,j,k}$\n",
    "\n",
    "Calculating the polynomial function for each interval:\n",
    "\n",
    "$\\sigma''_{i,j,k} = \\sum_{d=1}^{D_{i,j}+1} c_{i,j,k,d} \\cdot \\left( (l_{i,j,k} + x_{i,j,k}) - l_{i,j,k} \\right)^{D_{i,j}+1-d} $\n",
    "$- \\left( \\sum_{d=1}^{D_{i,j}+1} c_{i,j,k,d} \\cdot \\left( (l_{i,j,k}) - l_{i,j,k} \\right)^{D_{i,j}+1-d} \\right) \\cdot (1 - y_{i,j,k}) $\n",
    "\n",
    "Setting the sigma variable:\n",
    "\n",
    "$\\sum_{k=1}^{I_{i,j}} \\sigma''_{i,j,k} = \\sigma_{i,j}$"
   ]
  },
  {
   "cell_type": "markdown",
   "metadata": {},
   "source": [
    "Temos um problema quando sum y = 0"
   ]
  },
  {
   "cell_type": "code",
   "execution_count": null,
   "metadata": {},
   "outputs": [],
   "source": [
    "for i in range(1, splines_n+1) :\n",
    "    for j in range(1, splines_nVariables[i]+1) :\n",
    "        # Declaring variable\n",
    "        if j == 1 : # v\n",
    "          ampl.eval (f'var splines_nonselectslack_{i}_{j} >= 0 <= Vub/1000;')\n",
    "          ampl.eval (f's.t. splines_2_nonselectslack_{i}_{j} : splines_nonselectslack_{i}_{j} <= (Vub/1000)*(1-g[1,{i}]);')\n",
    "\n",
    "        if j == 2 : # q\n",
    "          ampl.eval (f'var splines_nonselectslack_{i}_{j} >= Q_minus[1] <= Qub[1];')\n",
    "          ampl.eval (f's.t. splines_2_nonselectslack_lb1_{i}_{j} : splines_nonselectslack_{i}_{j} <= Qub[1]*(1-g[1,{i}]) + Q_minus[1]*(u[1,{i}]);')\n",
    "          ampl.eval (f's.t. splines_2_nonselectslack_ub1_{i}_{j} : splines_nonselectslack_{i}_{j} >= Q_minus[1]*(u[1,{i}]);')\n",
    "\n",
    "        ampl.eval (f'var splines_select_sigma_{i}_{j}{{1 .. splines_nIntervals[{i},{j}]}} binary;')\n",
    "        ampl.eval (f'var splines_charge_sigma_{i}_{j}{{k in 1 .. splines_nIntervals[{i},{j}]}} >= 0 <= splines_l[{i},{j},k+1]-splines_l[{i},{j},k];')\n",
    "        ampl.eval (f'var splines_result_sigma_{i}_{j}{{k in 1 .. splines_nIntervals[{i},{j}]}};')\n",
    "\n",
    "        # Charging the variable\n",
    "        ampl.eval(f\"s.t. splines_2_cons_charge_sigma_{i}_{j} : {splines_variablesX[i,j]} == splines_nonselectslack_{i}_{j} + sum {{k in 1 .. splines_nIntervals[{i},{j}]}} (splines_select_sigma_{i}_{j}[k]*splines_l[{i},{j},k]  + splines_charge_sigma_{i}_{j}[k]);\")\n",
    "\n",
    "        # Multiple choice for binary variables\n",
    "        ampl.eval (f's.t. splines_2_cons_mc_sigma_{i}_{j} : sum{{k in 1 .. splines_nIntervals[{i},{j}]}} splines_select_sigma_{i}_{j}[k] == g[1,{i}];')\n",
    "\n",
    "        # Select the interval\n",
    "        ampl.eval (f's.t. splines_2_cons_charge_select_sigma_{i}_{j} {{k in 1 .. splines_nIntervals[{i},{j}]}} : splines_charge_sigma_{i}_{j}[k] <= (splines_l[{i},{j},k+1]-splines_l[{i},{j},k])*splines_select_sigma_{i}_{j}[k];')\n",
    "\n",
    "        # Calculate the correct function for the piecewise interval\n",
    "        ampl.eval (f\"\"\"s.t. splines_2_cons_poly_sigma_{i}_{j} {{k in 1 .. splines_nIntervals[{i},{j}]}} : splines_result_sigma_{i}_{j}[k] == \n",
    "                   (sum{{d in {{1 .. splines_nDegree[{i},{j}]+1}}}} splines[{i},{j},k,d]*((splines_l[{i},{j},k] + splines_charge_sigma_{i}_{j}[k]) - splines_l[{i},{j},k])^(splines_nDegree[{i},{j}]+1 - d)) \n",
    "                 - (sum{{d in {{1 .. splines_nDegree[{i},{j}]+1}}}} splines[{i},{j},k,d]*((splines_l[{i},{j},k]) - splines_l[{i},{j},k])^(splines_nDegree[{i},{j}]+1 - d))*(1-splines_select_sigma_{i}_{j}[k]); \"\"\")\n",
    "        \n",
    "        # Setting the sigma variable\n",
    "        ampl.eval (f's.t. splines_2_cons_set_sigma_{i}_{j} : sum{{i in 1 .. splines_nIntervals[{i},{j}]}} splines_result_sigma_{i}_{j}[i] == {splines_variablesSigma[i,j]};')\n"
   ]
  },
  {
   "cell_type": "code",
   "execution_count": null,
   "metadata": {},
   "outputs": [],
   "source": [
    "# ampl.export_model(filename=f'mods/ex{problem_name}_splines.mod')"
   ]
  },
  {
   "cell_type": "code",
   "execution_count": null,
   "metadata": {},
   "outputs": [],
   "source": [
    "def getConstraintLists() :\n",
    "    constraints = {}\n",
    "    constraints_drop = []\n",
    "    constraints_splines_1 = []\n",
    "    constraints_splines_2 = []\n",
    "    for i,con in enumerate(ampl.getConstraints()) :\n",
    "        constraints[i+1] = con[0]\n",
    "        if(con[0][-6:] == \"_drop_\") :\n",
    "            constraints_drop.append(i+1)\n",
    "        if(con[0][:10] == \"splines_1_\") :\n",
    "            constraints_splines_1.append(i+1)\n",
    "        if(con[0][:10] == \"splines_2_\") :\n",
    "            constraints_splines_2.append(i+1)\n",
    "    return constraints, constraints_drop, constraints_splines_1, constraints_splines_2\n",
    "\n",
    "def dropConstraints(constraints, list = []) :\n",
    "    for i in list :\n",
    "        ampl.getConstraint(constraints[i]).drop()\n",
    "\n",
    "def restoreConstraints(constraints, list = []) :\n",
    "    for i in list :\n",
    "        ampl.getConstraint(constraints[i]).restore()\n",
    "\n",
    "def setOriginalModel() :\n",
    "    constraints, constraints_drop, constraints_splines_1, constraints_splines_2 = getConstraintLists()\n",
    "    dropConstraints(constraints, constraints_splines_1)\n",
    "    dropConstraints(constraints, constraints_splines_2)\n",
    "    restoreConstraints(constraints, constraints_drop)\n",
    "\n",
    "def setSplines_1() :\n",
    "    constraints, constraints_drop, constraints_splines_1, constraints_splines_2 = getConstraintLists()\n",
    "    restoreConstraints(constraints, constraints_splines_1)\n",
    "    dropConstraints(constraints, constraints_splines_2)\n",
    "    dropConstraints(constraints, constraints_drop)\n",
    "\n",
    "def setSplines_2() :\n",
    "    constraints, constraints_drop, constraints_splines_1, constraints_splines_2 = getConstraintLists()\n",
    "    restoreConstraints(constraints, constraints_splines_1)\n",
    "    restoreConstraints(constraints, constraints_splines_2)\n",
    "    dropConstraints(constraints, constraints_drop)\n",
    "\n",
    "constraints, constraints_drop, constraints_splines_1, constraints_splines_2 = getConstraintLists()\n",
    "print(constraints)\n",
    "print(constraints_drop)\n",
    "print(constraints_splines_1)\n",
    "print(constraints_splines_2)"
   ]
  },
  {
   "cell_type": "markdown",
   "metadata": {},
   "source": [
    "#### Exploring the data"
   ]
  },
  {
   "cell_type": "markdown",
   "metadata": {},
   "source": [
    "The two functions below return the function of each polynomial:\n",
    "- The first function returns it in a LaTeX format so that it can be displayed on the screen.\n",
    "- The second function returns it in Python and is compiled at runtime, allowing it to be used when needed.\n"
   ]
  },
  {
   "cell_type": "code",
   "execution_count": null,
   "metadata": {},
   "outputs": [],
   "source": [
    "import types \n",
    "\n",
    "def get_function_latex(list_sp, list_l) -> str:\n",
    "    degree = int((len(list_sp)-1))\n",
    "    expression = \"\"\n",
    "    for k,i in enumerate(list_sp) :\n",
    "        expression += \"%+.10f\" % (i)\n",
    "        if ( (degree - k) > 0 ) : \n",
    "            expression += \"(x - %.10f)\" % (list_l)\n",
    "            if ( (degree - k) > 1 ) : \n",
    "                expression += \"^%d\" % (degree-k)\n",
    "    return expression\n",
    "\n",
    "def get_function_python(list_sp, list_l):\n",
    "    degree = int((len(list_sp)-1))\n",
    "    expression = \"\"\n",
    "    for k,i in enumerate(list_sp) :\n",
    "        expression += \"%+.10f\" % (i)\n",
    "        if ( (degree - k) > 0 ) : \n",
    "            expression += \"*(x - %.10f)\" % (list_l)\n",
    "            if ( (degree - k) > 1 ) : \n",
    "                expression += \"**%d\" % (degree-k)\n",
    "\n",
    "    return types.FunctionType(compile(\"def func(x) : \\n\\treturn \" + expression, '<string>', 'exec').co_consts[0], globals())\n",
    "\n",
    "list_funv = []\n",
    "for k in range(1, splines_n + 1):\n",
    "    list_func_var = []\n",
    "    for l in range(1, splines_nVariables[k] + 1):\n",
    "        list_func_spline = []\n",
    "        for i in range(1, splines_nIntervals[k,l] + 1):\n",
    "            list_sp = [splines[k,l,i,j] for j in range(1,(splines_nDegree[k,l]+1)+1)]\n",
    "            list_func_spline.append(get_function_python(list_sp, splines_l[k,l,i]))\n",
    "        list_func_var.append(list_func_spline)\n",
    "    list_funv.append(list_func_var)"
   ]
  },
  {
   "cell_type": "markdown",
   "metadata": {},
   "source": [
    "#### Showing spline functions imported from the data file"
   ]
  },
  {
   "cell_type": "code",
   "execution_count": null,
   "metadata": {},
   "outputs": [],
   "source": [
    "for k in range(1, splines_n + 1):\n",
    "    variables = [f\"\\\\sigma_{{{k},{l}}}(\" + splines_variablesX[k,l].replace(\"_plus_\", \"+\") + \") + \" for l in range(1, splines_nVariables[k] + 1)]\n",
    "    variables = \" \".join(variables)\n",
    "    expression = f'{splines_variablesY[k]} = {variables} {splines_alpha[k]}'\n",
    "    display(Math(expression))\n",
    "\n",
    "    for l in range(1, splines_nVariables[k] + 1):\n",
    "        variableX = splines_variablesX[k,l].replace(\"_plus_\", \"+\")\n",
    "        expression = f'\\sigma_{{{k},{l}}}({variableX}) = \\\\begin{{cases}}'\n",
    "\n",
    "        for i in range(1, splines_nIntervals[k,l] + 1):\n",
    "            list_sp = [splines[k,l,i,j] for j in range(1,(splines_nDegree[k,l]+1)+1)]\n",
    "            expression += f'{get_function_latex(list_sp, splines_l[k,l,i])}, & {splines_l[k,l,i]} \\leq {variableX} < {splines_l[k,l,i+1]} \\\\\\\\'\n",
    "            list_func_spline.append(get_function_python(list_sp, splines_l[k,l,i]))\n",
    "\n",
    "        expression += f'\\\\end{{cases}}'\n",
    "        display(Math(expression))"
   ]
  },
  {
   "cell_type": "markdown",
   "metadata": {},
   "source": [
    "#### Spline piecewise function"
   ]
  },
  {
   "cell_type": "markdown",
   "metadata": {},
   "source": [
    "The value of each sigma can be calculated using the folowing Python function:"
   ]
  },
  {
   "cell_type": "code",
   "execution_count": null,
   "metadata": {},
   "outputs": [],
   "source": [
    "def f_spiline_sigma(k : int,l : int, x, tolerance = 1e-6 ):\n",
    "    \n",
    "    i=1\n",
    "    cond_first = [(x >= splines_l[k, l, i] - tolerance) & (x <= splines_l[k, l, i + 1])]\n",
    "    i=splines_nIntervals[k,l]\n",
    "    cond_last = [(x >= splines_l[k, l, i]) & (x <= splines_l[k, l, i + 1] + tolerance)]\n",
    "\n",
    "    # Conditions for piecewise functions\n",
    "    conditions_x = [\n",
    "        (x >= splines_l[k,l, i]) & (x <= splines_l[k,l, i + 1]) \n",
    "        for i in range(2, splines_nIntervals[k,l] + 0)  # 1-based indexing\n",
    "    ]\n",
    "\n",
    "    conditions_x = cond_first + conditions_x + cond_last\n",
    "\n",
    "    # Avoid late binding issue by using a lambda wrapper\n",
    "    functions_x = [lambda x, i=i: list_funv[k-1][l-1][i](x) for i in range(splines_nIntervals[k,l])]\n",
    "\n",
    "    # Piecewise function for sigma_1\n",
    "    sigma_1 = np.piecewise(x, conditions_x, functions_x)\n",
    "\n",
    "    return sigma_1  # Return results for all k"
   ]
  },
  {
   "cell_type": "markdown",
   "metadata": {},
   "source": [
    "## Solving Splines with Gurobi"
   ]
  },
  {
   "cell_type": "code",
   "execution_count": null,
   "metadata": {},
   "outputs": [],
   "source": [
    "solver = \"couenne\"\n",
    "time_limit = 600\n",
    "\n",
    "nome_arquivo = os.path.basename(file_dataSplines)\n",
    "nome_arquivo, _ = os.path.splitext(nome_arquivo)\n",
    "out_log = f\"out/log_file_{solver}_{nome_arquivo}.log\"\n",
    "out_sol = f\"sol/sol_file_{solver}_{nome_arquivo}.sol\"\n",
    "\n",
    "print(out_log)\n",
    "print(out_sol)"
   ]
  },
  {
   "cell_type": "code",
   "execution_count": null,
   "metadata": {},
   "outputs": [],
   "source": [
    "setSplines_2()\n",
    "\n",
    "ampl.option[\"solver\"] = solver\n",
    "ampl.option[\"gurobi_options\"] = \"timelim=600 outlev=1 tech:threads=1\"\n",
    "ampl.option[\"couenne_options\"] = \"outlev=2\"\n",
    "ampl.option[\"baron_options\"] = f'maxtime=600 outlev=2'\n",
    "ampl.option[\"bonmin_options\"] = f'bonmin.time_limit=600 outlev=2'\n",
    "\n",
    "with open(\"couenne.opt\", 'w') as arquivo:\n",
    "    arquivo.write(f\"time_limit {time_limit}\")\n",
    "\n",
    "\n",
    "ampl.set_option(\"log_file\", out_log)\n",
    "ampl.solve()\n",
    "ampl.display(\"_varname, _var\")\n",
    "ampl.display(\"_obj[1]\")\n",
    "ampl.eval(\"display _solve_elapsed_time;\")\n",
    "\n",
    "ampl.set_option(\"log_file\", \"\")"
   ]
  },
  {
   "cell_type": "code",
   "execution_count": null,
   "metadata": {},
   "outputs": [],
   "source": [
    "%%ampl_eval\n",
    "let {j in J, t in T} p[j,t] := 0;\n",
    "let {j in J, t in T : g[j,t] >= 0.5} p[j,t] := 9.81/1000 * q[j,t] * sum{h in 0..6} ( L[h]*q[j,t]^h * (sum{k in 0..6} (K[k]*(1000*v[t])^k) - Llb - R0*q[j,t]^2 ));\n",
    "let {j in J, t in T : u[j,t] >= 0.5} p[j,t] := P_minus[j];"
   ]
  },
  {
   "cell_type": "code",
   "execution_count": null,
   "metadata": {},
   "outputs": [],
   "source": [
    "ampl.set_option(\"log_file\", out_log)\n",
    "ampl.display(\"_obj[1]\");\n",
    "ampl.set_option(\"log_file\", \"\")"
   ]
  },
  {
   "cell_type": "code",
   "execution_count": null,
   "metadata": {},
   "outputs": [],
   "source": [
    "def fix_integral_variables() :\n",
    "    for name, var in ampl.getVariables() :\n",
    "        output = var.__str__()\n",
    "\n",
    "        if \"integer\" in output.lower() or \"binary\" in output.lower():\n",
    "            var.fix()\n",
    "\n",
    "def unfix_variables() :\n",
    "    for name, var in ampl.getVariables() :\n",
    "        var.unfix()"
   ]
  },
  {
   "cell_type": "code",
   "execution_count": null,
   "metadata": {},
   "outputs": [],
   "source": [
    "fix_integral_variables()\n",
    "setOriginalModel()\n",
    "\n",
    "ampl.option[\"solver\"] = \"ipopt\"\n",
    "ampl.solve()\n",
    "ampl.display(\"_varname, _var\")\n",
    "\n",
    "ampl.set_option(\"log_file\", out_log)\n",
    "ampl.display(\"_obj[1]\");\n",
    "ampl.set_option(\"log_file\", \"\")\n",
    "\n",
    "unfix_variables()"
   ]
  },
  {
   "cell_type": "markdown",
   "metadata": {},
   "source": [
    "1 - _obj[1] = 14519.363208013572\n",
    "\n",
    "2 - _obj[1] = 14519.363208013834\n",
    "\n",
    "3 - _obj[1] = 14519.363208014631\n",
    "\n",
    "4 - _obj[1] = 14522.984376768505\n",
    "\n",
    "5 - _obj[1] = 14537.25685689077"
   ]
  },
  {
   "cell_type": "markdown",
   "metadata": {},
   "source": [
    "## Solving Splines with SCMINLP"
   ]
  },
  {
   "cell_type": "markdown",
   "metadata": {},
   "source": [
    "### Creating the LP file"
   ]
  },
  {
   "cell_type": "code",
   "execution_count": null,
   "metadata": {},
   "outputs": [],
   "source": [
    "setSplines_1() "
   ]
  },
  {
   "cell_type": "code",
   "execution_count": null,
   "metadata": {},
   "outputs": [],
   "source": [
    "%%ampl_eval\n",
    "# running the converter\n",
    "\n",
    "option presolve 0;\n",
    "option substout 0;\n",
    "option auxfiles 'cr';\n",
    "\n",
    "option solver gurobiasl;\n",
    "option gurobi_options 'writeprob=tmp.lp timelim=0 outlev=0 presolve=0';\n",
    "\n",
    "write gtmp;\n",
    "solve ;"
   ]
  },
  {
   "cell_type": "code",
   "execution_count": null,
   "metadata": {},
   "outputs": [],
   "source": [
    "setOriginalModel()"
   ]
  },
  {
   "cell_type": "markdown",
   "metadata": {},
   "source": [
    "#### Formating variable names of the .lp file\n",
    "\n",
    "The format of the .lp file exported from Gurobi is not compatible with the CPLEX library. We need to adapt the name of the variables, for example:\n",
    "\n",
    "* ``q[1,1]`` $\\rightarrow$ ``q_1_1_``\n",
    "\n"
   ]
  },
  {
   "cell_type": "code",
   "execution_count": null,
   "metadata": {},
   "outputs": [],
   "source": [
    "!sed 's/\\[/_/g; s/\\]/_/g; s/\\,/_/g' tmp.lp > $new_lp"
   ]
  },
  {
   "cell_type": "markdown",
   "metadata": {},
   "source": [
    "### Preparing the data for SCMINLP"
   ]
  },
  {
   "cell_type": "markdown",
   "metadata": {},
   "source": [
    "#### Creating the SplinesModel"
   ]
  },
  {
   "cell_type": "code",
   "execution_count": null,
   "metadata": {},
   "outputs": [],
   "source": [
    "import io\n",
    "import sys\n",
    "\n",
    "class Ampl_extra :\n",
    "    def __init__(self, ampl, spmodel):\n",
    "        self.ampl = ampl\n",
    "        self.spmodel = spmodel\n",
    "        self.best_solution = None\n",
    "        self.current_solution = None\n",
    "        self.best_objValue = None\n",
    "        self.current_objValue = None\n",
    "        self.solver = \"ipopt\"\n",
    "        self.objMinimization = [i for i in ampl.getObjectives()][0][1].minimization()\n",
    "\n",
    "    def LoadSolutionScmnlp2Ampl(self) :\n",
    "        solution = self.spmodel.getSolution()\n",
    "\n",
    "        for name, var in ampl.getVariables():\n",
    "            for index, _ in var:\n",
    "                if isinstance(index, tuple) and len(index) > 0:\n",
    "                    index_str = \"_\".join(str(i) for i in index)\n",
    "                    var_name = f\"{name}_{index_str}_\"\n",
    "                elif isinstance(index, int):\n",
    "                    index_str = str(index)\n",
    "                    var_name = f\"{name}_{index_str}_\"\n",
    "                else :\n",
    "                    var_name = f\"{name}\"\n",
    "                \n",
    "                if var_name in solution :\n",
    "                    var[index] = solution[var_name]\n",
    "        return solution\n",
    "    \n",
    "    def setBestSolution(self):\n",
    "        if self.current_objValue != None :\n",
    "            if self.best_objValue == None :\n",
    "                self.best_objValue = self.current_objValue\n",
    "                self.best_solution = self.current_solution\n",
    "            elif (self.objMinimization and self.current_objValue < self.best_objValue) or \\\n",
    "               (self.objMinimization == False and self.current_objValue > self.best_objValue) :\n",
    "                self.best_objValue = self.current_objValue\n",
    "                self.best_solution = self.current_solution\n",
    "\n",
    "    def calculate_original_function(self) : \n",
    "        self.LoadSolutionScmnlp2Ampl()\n",
    "        self.ampl.read(\"HUC_setOriginalFunc.run\")\n",
    "        print(f'Original function objective      :  ', end=\"\")\n",
    "        for obj, index in ampl.getObjectives() :\n",
    "            print(index.value())\n",
    "    \n",
    "    def solveIPOPT(self) :\n",
    "        # self.LoadSolutionScmnlp2Ampl()\n",
    "        self.fix_integral_variables()\n",
    "        self.ampl.solve(solver=self.solver, verbose=False)\n",
    "        if self.ampl.solve_result == \"solved\":\n",
    "            self.current_objValue = self.ampl.getCurrentObjective().value()\n",
    "            self.current_solution = self.ampl.get_solution()\n",
    "        else :\n",
    "            self.current_objValue = None\n",
    "            self.current_solution = None\n",
    "        self.setBestSolution()\n",
    "        self.displayObjValue()\n",
    "        self.unfix_variables()\n",
    "    \n",
    "    def displayObjValue(self) :\n",
    "        print(f'Local optim value original obj   :  {self.current_objValue}')\n",
    "        print(f'Best value original model        :  {self.best_objValue}')\n",
    "\n",
    "    def fix_integral_variables(self) :\n",
    "        for name, var in self.ampl.getVariables() :\n",
    "            output = var.__str__()\n",
    "\n",
    "            if \"integer\" in output.lower() or \"binary\" in output.lower():\n",
    "                var.fix()\n",
    "\n",
    "    def unfix_variables(self) :\n",
    "        for name, var in self.ampl.getVariables() :\n",
    "            var.unfix()\n",
    "\n",
    "    def display_vars(self) : \n",
    "        for name, var in self.ampl.getVariables():\n",
    "            for index, _ in var:\n",
    "                if isinstance(index, tuple) and len(index) > 0:\n",
    "                    index_str = \"_\".join(str(i) for i in index)\n",
    "                    var_name = f\"{name}_{index_str}_\"\n",
    "                elif isinstance(index, int):\n",
    "                    index_str = str(index)\n",
    "                    var_name = f\"{name}_{index_str}_\"\n",
    "                else :\n",
    "                    var_name = f\"{name}\"\n",
    "                print(f\"{var_name} = {var[index].value()}\")"
   ]
  },
  {
   "cell_type": "code",
   "execution_count": null,
   "metadata": {},
   "outputs": [],
   "source": [
    "from SCMINLP_SP_HUC_AUTO import SplinesModel\n",
    "\n",
    "def get_function_python_code(list_sp, list_l, var : str = \"x\") :\n",
    "    degree = int(len(list_sp)-1)\n",
    "    expression = \"\"\n",
    "    for k,i in enumerate(list_sp) :\n",
    "        expression += \"%+.10f\" % (i)\n",
    "        if ( (degree - k) > 0 ) : \n",
    "            expression += \"(%s - %.10f)\" % (var,list_l)\n",
    "            if ( (degree - k) > 1 ) : \n",
    "                expression += \"**%d\" % (degree-k)\n",
    "    return expression\n",
    "\n",
    "spmodel = SplinesModel()\n",
    "\n",
    "for k in range(1, splines_n + 1):\n",
    "    for l in range(1, splines_nVariables[k] + 1):\n",
    "        VarsList = [splines_variablesY[k]]\n",
    "        IntervalsList = []\n",
    "        Functions = []\n",
    "        independentList = []\n",
    "        varY_Name = splines_variablesSigma[k,l]\n",
    "        varZ_Name = VarsList[0].replace(\"p\",\"g\").replace('[', '_').replace(']', '_').replace(',', '_') # HUC\n",
    "        varX_Name = []\n",
    "\n",
    "        for i in range(1, splines_nIntervals[k,l] + 1):\n",
    "            newVarNameX = splines_variablesX[k,l].replace('[', '_').replace(']', '_').replace(',', '_')\n",
    "\n",
    "            IntervalsList.append([splines_l[k,l,i], splines_l[k,l,i+1]])\n",
    "            list_sp = [splines[k,l,i,j] for j in range(1,(splines_nDegree[k,l]+1)+1)]\n",
    "            Functions.append(get_function_python_code(list_sp, splines_l[k,l,i], newVarNameX))\n",
    "            independentList.append(0.0)\n",
    "            varX_Name.append(newVarNameX)\n",
    "\n",
    "        if k == 1 :\n",
    "            spmodel.addSpline(IntervalsList, VarsList, independentList, Functions, varX_Name, varY_Name, 'L', varZ_Name)\n",
    "        else :\n",
    "            spmodel.addSpline(IntervalsList, VarsList, independentList, Functions, varX_Name, varY_Name, 'L', varZ_Name)"
   ]
  },
  {
   "cell_type": "markdown",
   "metadata": {},
   "source": [
    "#### Calculating the breakpoints"
   ]
  },
  {
   "cell_type": "code",
   "execution_count": null,
   "metadata": {},
   "outputs": [],
   "source": [
    "spmodel.breakpoints()"
   ]
  },
  {
   "cell_type": "code",
   "execution_count": null,
   "metadata": {},
   "outputs": [],
   "source": [
    "index_display = 4\n",
    "display(spmodel.SplinesList[index_display].setBreakpoints)\n",
    "display(spmodel.SplinesList[index_display].setEstimation)\n",
    "display(spmodel.SplinesList[index_display].Functions)"
   ]
  },
  {
   "cell_type": "markdown",
   "metadata": {},
   "source": [
    "### Solve"
   ]
  },
  {
   "cell_type": "code",
   "execution_count": null,
   "metadata": {},
   "outputs": [],
   "source": [
    "nome_arquivo = os.path.basename(file_dataSplines)\n",
    "nome_arquivo, _ = os.path.splitext(nome_arquivo)\n",
    "out_log = f\"out/log_file_scminlp_{nome_arquivo}.log\"\n",
    "out_sol = f\"sol/sol_file_scminlp_{nome_arquivo}.sol\"\n",
    "\n",
    "print(out_log)\n",
    "print(out_sol)"
   ]
  },
  {
   "cell_type": "code",
   "execution_count": null,
   "metadata": {},
   "outputs": [],
   "source": [
    "ampl_extra = Ampl_extra(ampl, spmodel)\n",
    "\n",
    "iteration = 0\n",
    "added = 1\n",
    "gap = 100\n",
    "\n",
    "spmodel.TIMELIMIT = 600\n",
    "\n",
    "import sys\n",
    "from contextlib import redirect_stdout\n",
    "\n",
    "with open(out_log, 'w') as f:\n",
    "    with redirect_stdout(f):\n",
    "        while ( added > 0 and iteration < 200 and gap > 1e-4 ) :\n",
    "            spmodel.loadLPFile(new_lp)\n",
    "            spmodel.solve(iteration)\n",
    "            spmodel.fixingLocal()\n",
    "            spmodel.solve_display()\n",
    "            ampl_extra.calculate_original_function()\n",
    "            ampl_extra.solveIPOPT()\n",
    "\n",
    "            gap = spmodel.getGap()\n",
    "            display(gap)\n",
    "\n",
    "            added = spmodel.refinement()\n",
    "            iteration += 1\n",
    "\n",
    "        spmodel.final_display()"
   ]
  },
  {
   "cell_type": "markdown",
   "metadata": {},
   "source": [
    "The global optimum of (P6_2_5) is $f(\\mathbf{x}^*) = -70.75207783.$"
   ]
  },
  {
   "cell_type": "markdown",
   "metadata": {},
   "source": [
    "#### Export solution"
   ]
  },
  {
   "cell_type": "code",
   "execution_count": null,
   "metadata": {},
   "outputs": [],
   "source": [
    "with open(out_sol, 'w') as f:\n",
    "    with redirect_stdout(f):\n",
    "        solution = ampl_extra.LoadSolutionScmnlp2Ampl()\n",
    "        for var in solution :\n",
    "            print(f\"let {var} := {solution[var]};\")"
   ]
  },
  {
   "cell_type": "markdown",
   "metadata": {},
   "source": [
    "### Evaluating Spline Approximation: Solver Output vs Real values\""
   ]
  },
  {
   "cell_type": "code",
   "execution_count": null,
   "metadata": {},
   "outputs": [],
   "source": [
    "solution = ampl_extra.LoadSolutionScmnlp2Ampl()\n",
    "ampl.display(\"_varname, _var\")\n",
    "ampl.display(\"_obj[1]\")"
   ]
  },
  {
   "cell_type": "markdown",
   "metadata": {},
   "source": [
    "### Evaluating Spline Approximation: Expected Values vs. Solver Output\""
   ]
  },
  {
   "cell_type": "code",
   "execution_count": null,
   "metadata": {},
   "outputs": [],
   "source": [
    "table_sigma = []\n",
    "table_y = []\n",
    "\n",
    "for i in range(1, splines_n+1) :\n",
    "    z = 0\n",
    "    for j in range(1, splines_nVariables[i]+1) :\n",
    "        sigma = f_spiline_sigma(i, j, solution[splines_variablesX[i,j]] )\n",
    "        z += sigma\n",
    "\n",
    "        table_sigma.append([splines_variablesSigma[i,j], sigma, solution[splines_variablesSigma[i,j]], abs(sigma - solution[splines_variablesSigma[i,j]])])\n",
    "    z += splines_alpha[i]\n",
    "\n",
    "    table_y.append([splines_variablesY[i], z, solution[splines_variablesY[i]], abs(z - solution[splines_variablesY[i]])])\n"
   ]
  },
  {
   "cell_type": "code",
   "execution_count": null,
   "metadata": {},
   "outputs": [],
   "source": [
    "pd.DataFrame(table_y, columns=[\"Variable name\",\"Real value\",\"Value from solver\", \"Abs. error\"])"
   ]
  },
  {
   "cell_type": "code",
   "execution_count": null,
   "metadata": {},
   "outputs": [],
   "source": [
    "pd.DataFrame(table_sigma, columns=[\"Variable name\",\"Real value\",\"Value from solver\", \"Abs. error\"])"
   ]
  },
  {
   "cell_type": "code",
   "execution_count": null,
   "metadata": {},
   "outputs": [],
   "source": []
  },
  {
   "cell_type": "code",
   "execution_count": null,
   "metadata": {},
   "outputs": [],
   "source": [
    "cpx = cplex.Cplex(\"out.lp\")\n",
    "cpx.parameters.threads.set(1)\n",
    "cpx.solve()\n",
    "\n",
    "cpx.solution.get_status_string()"
   ]
  },
  {
   "cell_type": "code",
   "execution_count": null,
   "metadata": {},
   "outputs": [],
   "source": [
    "for value, name in zip(cpx.solution.get_values(),cpx.variables.get_names()):\n",
    "    print(value, name)"
   ]
  }
 ],
 "metadata": {
  "kernelspec": {
   "display_name": "Python 3",
   "language": "python",
   "name": "python3"
  },
  "language_info": {
   "codemirror_mode": {
    "name": "ipython",
    "version": 3
   },
   "file_extension": ".py",
   "mimetype": "text/x-python",
   "name": "python",
   "nbconvert_exporter": "python",
   "pygments_lexer": "ipython3",
   "version": "3.9.20"
  }
 },
 "nbformat": 4,
 "nbformat_minor": 2
}
